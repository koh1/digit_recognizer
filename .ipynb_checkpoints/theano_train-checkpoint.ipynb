{
 "metadata": {
  "name": "",
  "signature": "sha256:3d5b9e6d06e45b71bedebf1b8c54ab14978f9a8f4324fe03bc9b8e67dcb75f50"
 },
 "nbformat": 3,
 "nbformat_minor": 0,
 "worksheets": [
  {
   "cells": [
    {
     "cell_type": "code",
     "collapsed": false,
     "input": [
      "from theano import function,config,shared,sandbox\n",
      "import theano.tensor as T\n",
      "import numpy\n",
      "import time\n",
      "\n",
      "vlen = 10 * 30 * 768\n",
      "iters = 1000\n",
      "\n",
      "rng = numpy.random.RandomState(22)\n",
      "x = shared(numpy.asarray(rng.rand(vlen), config.floatX))\n",
      "f =  function([], T.exp(x))\n",
      "print f.maker.fgraph.toposort()\n",
      "t0 = time.time()\n",
      "for i in xrange(iters):\n",
      "    r = f()\n",
      "t1 = time.time()\n",
      "print(\"Looping %d times took %f seconds\" % (iters, t1-t0))\n",
      "print(\"Result is %s\" % r)\n",
      "\n",
      "if numpy.any([isinstance(x.op, T.Elemwise) for x in f.maker.fgraph.toposort()]):\n",
      "    print(\"used the CPU\")\n",
      "else:\n",
      "    print(\"used the GPU\")\n"
     ],
     "language": "python",
     "metadata": {},
     "outputs": [
      {
       "output_type": "stream",
       "stream": "stdout",
       "text": [
        "[Elemwise{exp,no_inplace}(<TensorType(float64, vector)>)]\n",
        "Looping 1000 times took 1.401339 seconds"
       ]
      },
      {
       "output_type": "stream",
       "stream": "stdout",
       "text": [
        "\n",
        "Result is [ 1.23178032  1.61879341  1.52278065 ...,  2.20771815  2.29967753\n",
        "  1.62323285]\n",
        "used the CPU\n"
       ]
      }
     ],
     "prompt_number": 4
    },
    {
     "cell_type": "code",
     "collapsed": false,
     "input": [],
     "language": "python",
     "metadata": {},
     "outputs": []
    }
   ],
   "metadata": {}
  }
 ]
}