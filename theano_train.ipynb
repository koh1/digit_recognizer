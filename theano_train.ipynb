{
 "metadata": {
  "name": "",
  "signature": "sha256:c8724dd9011a1830bdecf452fa601bd66c978d06f4e8410eae0a049d53747f81"
 },
 "nbformat": 3,
 "nbformat_minor": 0,
 "worksheets": [
  {
   "cells": [
    {
     "cell_type": "code",
     "collapsed": false,
     "input": [
      "from theano import function,config,shared,sandbox\n",
      "import theano.tensor as T\n",
      "import numpy\n",
      "import time\n",
      "\n",
      "vlen = 10 * 30 * 768\n",
      "iters = 1000\n",
      "\n",
      "rng = numpy.random.RandomState(22)\n",
      "x = shared(numpy.asarray(rng.rand(vlen), config.floatX))\n",
      "f =  function([], T.exp(x))\n",
      "print f.maker.fgraph.toposort()\n",
      "t0 = time.time()\n",
      "for i in xrange(iters):\n",
      "    r = f()\n",
      "t1 = time.time()\n",
      "print(\"Looping %d times took %f seconds\" % (iters, t1-t0))\n",
      "print(\"Result is %s\" % r)\n",
      "\n",
      "if numpy.any([isinstance(x.op, T.Elemwise) for x in f.maker.fgraph.toposort()]):\n",
      "    print(\"used the CPU\")\n",
      "else:\n",
      "    print(\"used the GPU\")\n"
     ],
     "language": "python",
     "metadata": {},
     "outputs": [
      {
       "output_type": "stream",
       "stream": "stdout",
       "text": [
        "[Elemwise{exp,no_inplace}(<TensorType(float64, vector)>)]\n",
        "Looping 1000 times took 1.401339 seconds"
       ]
      },
      {
       "output_type": "stream",
       "stream": "stdout",
       "text": [
        "\n",
        "Result is [ 1.23178032  1.61879341  1.52278065 ...,  2.20771815  2.29967753\n",
        "  1.62323285]\n",
        "used the CPU\n"
       ]
      }
     ],
     "prompt_number": 4
    },
    {
     "cell_type": "code",
     "collapsed": false,
     "input": [
      "import theano.tensor as T\n",
      "from theano import function\n",
      "x = T.dscalar('x')\n",
      "y = x**2\n",
      "z = x**2 + y\n",
      "f = function(inputs=[x], outputs=z)\n",
      "f(3)"
     ],
     "language": "python",
     "metadata": {},
     "outputs": [
      {
       "metadata": {},
       "output_type": "pyout",
       "prompt_number": 3,
       "text": [
        "array(18.0)"
       ]
      }
     ],
     "prompt_number": 3
    },
    {
     "cell_type": "code",
     "collapsed": false,
     "input": [
      "import numpy as np\n",
      "x = T.dvector('x')\n",
      "y = x**2\n",
      "z = x**2 + y\n",
      "f = function(inputs=[x], outputs=z)\n",
      "a = np.array([1., 2., 3.])\n",
      "f(a)"
     ],
     "language": "python",
     "metadata": {},
     "outputs": [
      {
       "metadata": {},
       "output_type": "pyout",
       "prompt_number": 4,
       "text": [
        "array([  2.,   8.,  18.])"
       ]
      }
     ],
     "prompt_number": 4
    },
    {
     "cell_type": "code",
     "collapsed": false,
     "input": [
      "x = T.dmatrix('x')\n",
      "s0 = x.shape[0]\n",
      "s1 = x.shape[1]\n",
      "f = function(inputs=[x], outputs=[s0, s1, s0 * s1])\n",
      "a = np.zeros((4,3))\n",
      "f(a)"
     ],
     "language": "python",
     "metadata": {},
     "outputs": [
      {
       "metadata": {},
       "output_type": "pyout",
       "prompt_number": 5,
       "text": [
        "[array(4), array(3), array(12)]"
       ]
      }
     ],
     "prompt_number": 5
    },
    {
     "cell_type": "code",
     "collapsed": false,
     "input": [],
     "language": "python",
     "metadata": {},
     "outputs": []
    }
   ],
   "metadata": {}
  }
 ]
}