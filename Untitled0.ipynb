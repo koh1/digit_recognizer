{
 "metadata": {
  "name": "",
  "signature": "sha256:464c7c84e2afa6425af5576f69ad412a9073c24f0b8692dacecd6c30f430c874"
 },
 "nbformat": 3,
 "nbformat_minor": 0,
 "worksheets": [
  {
   "cells": [
    {
     "cell_type": "code",
     "collapsed": false,
     "input": [
      "import numpy as np\n",
      "import matplotlib.pyplot as plt\n",
      "\n",
      "a = np.arange(-10, 10, 0.1)\n",
      "s = 1.0 / (1.0 + np.exp(-a))\n",
      "plt.plot(a, s)\n",
      "plt.show()"
     ],
     "language": "python",
     "metadata": {},
     "outputs": []
    },
    {
     "cell_type": "code",
     "collapsed": false,
     "input": [],
     "language": "python",
     "metadata": {},
     "outputs": []
    }
   ],
   "metadata": {}
  }
 ]
}