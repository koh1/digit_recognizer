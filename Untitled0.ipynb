{
 "metadata": {
  "name": "",
  "signature": "sha256:12a71f525e30a92ebbd40730b731afdf3e3372b5bc2c2c46ace24a8f8e73bbfa"
 },
 "nbformat": 3,
 "nbformat_minor": 0,
 "worksheets": [
  {
   "cells": [
    {
     "cell_type": "code",
     "collapsed": false,
     "input": [
      "import numpy as np\n",
      "import matplotlib.pyplot as plt\n",
      "\n",
      "a = np.arange(-10, 10, 0.1)\n",
      "s = 1.0 / (1.0 + np.exp(-a))\n",
      "plt.plot(a, s)\n",
      "plt.show()"
     ],
     "language": "python",
     "metadata": {},
     "outputs": [],
     "prompt_number": 2
    },
    {
     "cell_type": "code",
     "collapsed": false,
     "input": [],
     "language": "python",
     "metadata": {},
     "outputs": []
    }
   ],
   "metadata": {}
  }
 ]
}